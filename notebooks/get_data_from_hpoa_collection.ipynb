{
 "cells": [
  {
   "cell_type": "code",
   "execution_count": 11,
   "id": "initial_id",
   "metadata": {
    "collapsed": true,
    "ExecuteTime": {
     "end_time": "2023-12-11T09:56:47.988390Z",
     "start_time": "2023-12-11T09:56:47.983762Z"
    }
   },
   "outputs": [],
   "source": [
    "from chromadb_manager import ChromaDBManager\n",
    "import json"
   ]
  },
  {
   "cell_type": "code",
   "execution_count": 2,
   "outputs": [],
   "source": [
    "db_manager = ChromaDBManager(\"/Users/carlo/Downloads/curate-gpt/db\")\n"
   ],
   "metadata": {
    "collapsed": false,
    "ExecuteTime": {
     "end_time": "2023-12-10T18:57:41.431890Z",
     "start_time": "2023-12-10T18:57:41.260879Z"
    }
   },
   "id": "8814416b455f5db4"
  },
  {
   "cell_type": "code",
   "execution_count": 3,
   "outputs": [
    {
     "data": {
      "text/plain": "Collection(name=hpoa)"
     },
     "execution_count": 3,
     "metadata": {},
     "output_type": "execute_result"
    }
   ],
   "source": [
    "hpoa = db_manager.get_collection(\"hpoa\")\n",
    "hpoa"
   ],
   "metadata": {
    "collapsed": false,
    "ExecuteTime": {
     "end_time": "2023-12-10T18:57:42.724250Z",
     "start_time": "2023-12-10T18:57:42.713164Z"
    }
   },
   "id": "b1980bee64c815bf"
  },
  {
   "cell_type": "code",
   "execution_count": 5,
   "outputs": [],
   "source": [
    "disease_and_hps_dict = {}"
   ],
   "metadata": {
    "collapsed": false,
    "ExecuteTime": {
     "end_time": "2023-12-10T18:59:07.617749Z",
     "start_time": "2023-12-10T18:59:07.615159Z"
    }
   },
   "id": "85fe7edefa511743"
  },
  {
   "cell_type": "code",
   "execution_count": 6,
   "outputs": [],
   "source": [
    "results = hpoa.get(where={}, include=[\"metadatas\"])\n",
    "for item in results.get(\"metadatas\"):\n",
    "    metadata_json = json.loads(item[\"_json\"])\n",
    "    disease = metadata_json.get(\"disease\")\n",
    "    phenotype = metadata_json.get('phenotype')\n",
    "    if disease and phenotype:\n",
    "        if disease not in disease_and_hps_dict:\n",
    "            disease_and_hps_dict[disease] = [phenotype]\n",
    "        else:\n",
    "            disease_and_hps_dict[disease].append(phenotype)\n",
    "        "
   ],
   "metadata": {
    "collapsed": false,
    "ExecuteTime": {
     "end_time": "2023-12-10T19:06:44.234113Z",
     "start_time": "2023-12-10T19:06:31.025523Z"
    }
   },
   "id": "9369e8eb4c36ea06"
  },
  {
   "cell_type": "code",
   "execution_count": 7,
   "outputs": [
    {
     "name": "stdout",
     "output_type": "stream",
     "text": [
      "{'OMIM:619340': ['HP:0011097', 'HP:0002187', 'HP:0001518', 'HP:0032792', 'HP:0011451', 'HP:0010851', 'HP:0001789', 'HP:0200134', 'HP:0001522', 'HP:0000006', 'HP:0002643'], 'OMIM:609153': ['HP:0002378', 'HP:0003324', 'HP:0002153', 'HP:0003394', 'HP:0001878', 'HP:0003768', 'HP:0000006'], 'OMIM:614102': ['HP:0002014', 'HP:0002719']}\n"
     ]
    }
   ],
   "source": [
    "print(disease_and_hps_dict)"
   ],
   "metadata": {
    "collapsed": false,
    "ExecuteTime": {
     "end_time": "2023-12-10T19:06:46.635095Z",
     "start_time": "2023-12-10T19:06:46.629598Z"
    }
   },
   "id": "54eba67d3de1d34a"
  },
  {
   "cell_type": "code",
   "execution_count": 11,
   "outputs": [
    {
     "data": {
      "text/plain": "{'ids': ['{\\'disease\\': \\'OMIM:619340\\', \\'disease_label\\': \\'Developmental and epileptic encephalopathy 96\\', \\'qualifier\\': \\'\\', \\'phenotype\\': \\'HP:0011097\\', \\'reference\\': \\'PMID:31675180\\', \\'evidence\\': \\'PCS\\', \\'onset\\': \\'\\', \\'frequency\\': \\'1/2\\', \\'sex\\': \\'\\', \\'modifier\\': \\'\\', \\'aspect\\': \\'P\\', \\'biocuration\\': \\'HPO:probinson[2021-06-21]\\', \\'phenotype_label\\': \\'Epileptic spasm\\', \\'publications\\': [{\\'id\\': \\'PMID:31675180\\', \\'title\\': \\'De novo NSF mutations cause early infantile epileptic encephalopathy.\\', \\'abstract\\': \\'N-ethylmaleimide-sensitive factor (NSF) plays a critical role in intracellular vesicle transport, which is essential for neurotransmitter release. Herein, we, for the first time, document human monogenic disease phenotype of de novo pathogenic variants in NSF, that is, epileptic encephalopathy of early infantile onset. When expressed in the developing eye of Drosophila, the mutant NSF severely affected eye development, while the wild-type allele had no detectable effect under the same conditions. Our findings suggest that the two pathogenic variants exert a dominant negative effect. De novo heterozygous mutations in the NSF gene cause early infantile epileptic encephalopathy.\\', \\'pmcid\\': \\'PMCID:PMC6856629\\'}], \\'_json\\': \\'{\"disease\": \"OMIM:619340\", \"disease_label\": \"Developmental and epileptic encephalopathy 96\", \"qualifier\": \"\", \"phenotype\": \"HP:0011097\", \"reference\": \"PMID:31675180\", \"evidence\": \"PCS\", \"onset\": \"\", \"frequency\": \"1/2\", \"sex\": \"\", \"modifier\": \"\", \"aspect\": \"P\", \"biocuration\": \"HPO:probinson[2021-06-21]\", \"phenotype_label\": \"Epileptic spasm\", \"publications\": [{\"id\": \"PMID:31675180\", \"title\": \"De novo NSF mutations cause early infantile epileptic encephalopathy.\", \"abstract\": \"N-ethylmaleimide-sensitive factor (NSF) plays a critical role in intracellular vesicle transport, which is essential for neurotransmitter release. Herein, we, for the first time, document human monogenic disease phenotype of de novo pathogenic variants in NSF, that is, epileptic encephalopathy of early infantile onset. When expressed in the developing eye of Drosophila, the mutant NSF severely affected eye development, while the wild-type allele had no detectable effect under the same conditions. Our findings suggest that the two pathogenic variants exert a dominant negative effect. De novo heterozygous mutations in the NSF gene cause early infantile epileptic encephalopathy.\", \"pmcid\": \"PMCID:PMC6856629\"}]}\\'}'],\n 'embeddings': None,\n 'metadatas': [{'_json': '{\"disease\": \"OMIM:619340\", \"disease_label\": \"Developmental and epileptic encephalopathy 96\", \"qualifier\": \"\", \"phenotype\": \"HP:0011097\", \"reference\": \"PMID:31675180\", \"evidence\": \"PCS\", \"onset\": \"\", \"frequency\": \"1/2\", \"sex\": \"\", \"modifier\": \"\", \"aspect\": \"P\", \"biocuration\": \"HPO:probinson[2021-06-21]\", \"phenotype_label\": \"Epileptic spasm\", \"publications\": [{\"id\": \"PMID:31675180\", \"title\": \"De novo NSF mutations cause early infantile epileptic encephalopathy.\", \"abstract\": \"N-ethylmaleimide-sensitive factor (NSF) plays a critical role in intracellular vesicle transport, which is essential for neurotransmitter release. Herein, we, for the first time, document human monogenic disease phenotype of de novo pathogenic variants in NSF, that is, epileptic encephalopathy of early infantile onset. When expressed in the developing eye of Drosophila, the mutant NSF severely affected eye development, while the wild-type allele had no detectable effect under the same conditions. Our findings suggest that the two pathogenic variants exert a dominant negative effect. De novo heterozygous mutations in the NSF gene cause early infantile epileptic encephalopathy.\", \"pmcid\": \"PMCID:PMC6856629\"}]}',\n   'aspect': 'P',\n   'biocuration': 'HPO:probinson[2021-06-21]',\n   'disease': 'OMIM:619340',\n   'disease_label': 'Developmental and epileptic encephalopathy 96',\n   'evidence': 'PCS',\n   'frequency': '1/2',\n   'modifier': '',\n   'onset': '',\n   'phenotype': 'HP:0011097',\n   'phenotype_label': 'Epileptic spasm',\n   'qualifier': '',\n   'reference': 'PMID:31675180',\n   'sex': ''}],\n 'documents': None,\n 'uris': None,\n 'data': None}"
     },
     "execution_count": 11,
     "metadata": {},
     "output_type": "execute_result"
    }
   ],
   "source": [
    "results"
   ],
   "metadata": {
    "collapsed": false,
    "ExecuteTime": {
     "end_time": "2023-12-10T18:22:14.851019Z",
     "start_time": "2023-12-10T18:22:14.830961Z"
    }
   },
   "id": "89acd0be8683b697"
  },
  {
   "cell_type": "code",
   "execution_count": 8,
   "outputs": [
    {
     "data": {
      "text/plain": "[Collection(name=hpo_embedding_collection_test),\n Collection(name=ont_oba),\n Collection(name=disease_average_embedding_test),\n Collection(name=ont_mp),\n Collection(name=hpoa),\n Collection(name=ont_hp),\n Collection(name=ont_fbbt),\n Collection(name=ont_uberon),\n Collection(name=ont_obi),\n Collection(name=HPOtoEmbeddings),\n Collection(name=ont_agro),\n Collection(name=default),\n Collection(name=ont_cl),\n Collection(name=ont_chebi),\n Collection(name=ont_envo),\n Collection(name=ont_mondo),\n Collection(name=ont_po),\n Collection(name=DiseaseAvgEmbeddings),\n Collection(name=ont_go),\n Collection(name=ont_nbo)]"
     },
     "execution_count": 8,
     "metadata": {},
     "output_type": "execute_result"
    }
   ],
   "source": [
    "db_manager.list_collections()"
   ],
   "metadata": {
    "collapsed": false,
    "ExecuteTime": {
     "end_time": "2023-12-11T09:34:16.708254Z",
     "start_time": "2023-12-11T09:34:16.687066Z"
    }
   },
   "id": "f4247f5a9b6bf8a1"
  },
  {
   "cell_type": "code",
   "execution_count": null,
   "outputs": [],
   "source": [],
   "metadata": {
    "collapsed": false
   },
   "id": "4647103744c2bffd"
  }
 ],
 "metadata": {
  "kernelspec": {
   "display_name": "Python 3",
   "language": "python",
   "name": "python3"
  },
  "language_info": {
   "codemirror_mode": {
    "name": "ipython",
    "version": 2
   },
   "file_extension": ".py",
   "mimetype": "text/x-python",
   "name": "python",
   "nbconvert_exporter": "python",
   "pygments_lexer": "ipython2",
   "version": "2.7.6"
  }
 },
 "nbformat": 4,
 "nbformat_minor": 5
}
