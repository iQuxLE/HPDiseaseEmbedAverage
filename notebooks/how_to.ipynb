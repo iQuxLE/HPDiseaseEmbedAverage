{
 "cells": [
  {
   "cell_type": "code",
   "execution_count": 1,
   "id": "initial_id",
   "metadata": {
    "collapsed": true,
    "ExecuteTime": {
     "end_time": "2023-12-14T11:32:13.573326Z",
     "start_time": "2023-12-14T11:32:13.205324Z"
    }
   },
   "outputs": [],
   "source": [
    "from core.chromadb_manager import ChromaDBManager\n",
    "from core.data_processor import DataProcessor\n",
    "from core.query_service import QueryService\n",
    "from core.main import Main\n",
    "from core.hp_embedding_service import HPEmbeddingService\n",
    "from core.disease_avg_embedding_service import DiseaseAvgEmbeddingService\n",
    "from core.similarity_service import CosineSimilarity, L2Distance, SimilarityService\n",
    "from utils.similarity_measures import SimilarityMeasures"
   ]
  },
  {
   "cell_type": "markdown",
   "source": [
    "Step 2: Initialize the Main Class\n",
    "Create an instance of Main class. This will initialize other components like ChromaDBManager and DataProcessor."
   ],
   "metadata": {
    "collapsed": false
   },
   "id": "309159e76ff28eb"
  },
  {
   "cell_type": "code",
   "execution_count": 2,
   "outputs": [],
   "source": [
    "# Initialize with default or specific similarity measure\n",
    "main_system = Main(similarity_measure=SimilarityMeasures.COSINE)\n"
   ],
   "metadata": {
    "collapsed": false,
    "ExecuteTime": {
     "end_time": "2023-12-14T11:32:46.518255Z",
     "start_time": "2023-12-14T11:32:13.574070Z"
    }
   },
   "id": "9fb146a8bd1ca24e"
  },
  {
   "cell_type": "markdown",
   "source": [
    "Step 3: Initialize Data and Collections\n",
    "Call the initialize_data method to set up data structures like hp_embeddings and disease_to_hps."
   ],
   "metadata": {
    "collapsed": false
   },
   "id": "ece61a80e901fc32"
  },
  {
   "cell_type": "code",
   "execution_count": 3,
   "outputs": [],
   "source": [
    "main_system.initialize_data()\n"
   ],
   "metadata": {
    "collapsed": false,
    "ExecuteTime": {
     "end_time": "2023-12-14T11:33:06.656684Z",
     "start_time": "2023-12-14T11:32:46.517124Z"
    }
   },
   "id": "3caf3793bfda1c1b"
  },
  {
   "cell_type": "markdown",
   "source": [
    "Step 4: Setup Collections\n"
   ],
   "metadata": {
    "collapsed": false
   },
   "id": "fac98f90d5fa1aed"
  },
  {
   "cell_type": "code",
   "execution_count": 4,
   "outputs": [],
   "source": [
    "main_system.setup_collections()\n"
   ],
   "metadata": {
    "collapsed": false,
    "ExecuteTime": {
     "end_time": "2023-12-14T11:36:05.715519Z",
     "start_time": "2023-12-14T11:33:06.653825Z"
    }
   },
   "id": "cdf942ff83522539"
  },
  {
   "cell_type": "markdown",
   "source": [
    "Step 5: Run Analysis\n",
    "To run the analysis, specify the similarity strategy, the input HPO terms, and the collection name. The necessary data needs to be available in the notebook."
   ],
   "metadata": {
    "collapsed": false
   },
   "id": "56e4f1bf16940aa1"
  },
  {
   "cell_type": "code",
   "execution_count": 5,
   "outputs": [],
   "source": [
    "# Choose a similarity strategy\n",
    "# similarity_strategy = CosineSimilarity()  # or L2Distance(), etc. this must go out for other function\n",
    "\n",
    "hpListOfOMIM619340 = [\n",
    " 'HP:0001522',\n",
    " 'HP:0010851',\n",
    " 'HP:0002643',\n",
    " 'HP:0032792',\n",
    " 'HP:0002187',\n",
    " 'HP:0000006',\n",
    " 'HP:0200134',\n",
    " 'HP:0011451',\n",
    " 'HP:0001789',\n",
    " 'HP:0011097']\n",
    "\n",
    "\n"
   ],
   "metadata": {
    "collapsed": false,
    "ExecuteTime": {
     "end_time": "2023-12-14T11:36:05.717364Z",
     "start_time": "2023-12-14T11:36:05.707112Z"
    }
   },
   "id": "8c36c7b20caab48a"
  },
  {
   "cell_type": "code",
   "execution_count": 6,
   "outputs": [],
   "source": [
    "\n",
    "# Run analysis\n",
    "results = main_system.run_analysis(hpListOfOMIM619340)"
   ],
   "metadata": {
    "collapsed": false,
    "ExecuteTime": {
     "end_time": "2023-12-14T11:36:05.732999Z",
     "start_time": "2023-12-14T11:36:05.713807Z"
    }
   },
   "id": "1630f3dc2c7830f7"
  },
  {
   "cell_type": "code",
   "execution_count": 7,
   "outputs": [
    {
     "data": {
      "text/plain": "[('OMIM:619340', 0.002229071920737624),\n ('OMIM:251280', 0.020075643435120583),\n ('OMIM:266100', 0.020780911669135094),\n ('OMIM:614558', 0.02147177793085575),\n ('OMIM:617929', 0.02174798771739006),\n ('OMIM:612164', 0.021880965679883957),\n ('OMIM:617105', 0.022684408351778984),\n ('OMIM:620033', 0.023259595036506653),\n ('OMIM:619881', 0.023755500093102455),\n ('OMIM:619913', 0.0238623209297657)]"
     },
     "execution_count": 7,
     "metadata": {},
     "output_type": "execute_result"
    }
   ],
   "source": [
    "results"
   ],
   "metadata": {
    "collapsed": false,
    "ExecuteTime": {
     "end_time": "2023-12-14T11:36:18.410257Z",
     "start_time": "2023-12-14T11:36:18.389805Z"
    }
   },
   "id": "247b510da87a6e2c"
  },
  {
   "cell_type": "code",
   "execution_count": null,
   "outputs": [],
   "source": [],
   "metadata": {
    "collapsed": false
   },
   "id": "d65fe7e19d45f205"
  }
 ],
 "metadata": {
  "kernelspec": {
   "display_name": "Python 3",
   "language": "python",
   "name": "python3"
  },
  "language_info": {
   "codemirror_mode": {
    "name": "ipython",
    "version": 2
   },
   "file_extension": ".py",
   "mimetype": "text/x-python",
   "name": "python",
   "nbconvert_exporter": "python",
   "pygments_lexer": "ipython2",
   "version": "2.7.6"
  }
 },
 "nbformat": 4,
 "nbformat_minor": 5
}
